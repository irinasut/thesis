{
 "cells": [
  {
   "cell_type": "code",
   "execution_count": 1,
   "id": "fe94f631",
   "metadata": {},
   "outputs": [],
   "source": [
    "from proto.scannerservice import scannerservice_pb2_grpc\n",
    "from proto.scannerservice import scannerservice_pb2\n",
    "import grpc \n",
    "import logging\n",
    "import time"
   ]
  },
  {
   "cell_type": "code",
   "execution_count": 2,
   "id": "42da8278",
   "metadata": {},
   "outputs": [],
   "source": [
    "SCANNER_ADDRESSE = 'scanlabservice.sallyhardware.svc.cluster.local:50051'\n",
    "\n",
    "\n",
    "class ScannerClient():\n",
    "    \n",
    "    def __init__(self):\n",
    "        # establish the connection to the scanlab container\n",
    "        try:            \n",
    "            self.channel = grpc.insecure_channel(SCANNER_ADDRESSE)\n",
    "            self.stub = scannerservice_pb2_grpc.HardwareControllerStub(self.channel)\n",
    "            logging.info(\"Connection to scanner service established\")\n",
    "        except:\n",
    "            logging.error(\"Impossible to rpc connect to the scanner service\")\n",
    "    \n",
    "    def getFieldSize(self):  \n",
    "        empty = scannerservice_pb2.Empty() \n",
    "        #return pos\n",
    "        return self.stub.GetHardScanField(empty)\n",
    "    \n",
    "    def jump(self, x, y):  \n",
    "        empty = scannerservice_pb2.Empty() \n",
    "        Field = self.stub.GetHardScanField(empty)\n",
    "        print(Field)\n",
    "        pos = scannerservice_pb2.Position(x=x, y=y)\n",
    "        \n",
    "        #return pos\n",
    "        return self.stub.JumpToPosition(pos)"
   ]
  },
  {
   "cell_type": "code",
   "execution_count": 18,
   "id": "58d2ee41",
   "metadata": {},
   "outputs": [
    {
     "name": "stdout",
     "output_type": "stream",
     "text": [
      "xminimum: -524288\n",
      "xmaximum: 524288\n",
      "yminimum: -524288\n",
      "ymaximum: 524288\n",
      "\n"
     ]
    }
   ],
   "source": [
    "scanner = ScannerClient()\n",
    "res = scanner.jump(0, 0)\n",
    "#print(res)s"
   ]
  },
  {
   "cell_type": "code",
   "execution_count": null,
   "id": "4d7621f6",
   "metadata": {},
   "outputs": [],
   "source": []
  },
  {
   "cell_type": "markdown",
   "id": "4da9ad5d",
   "metadata": {},
   "source": [
    "# "
   ]
  }
 ],
 "metadata": {
  "kernelspec": {
   "display_name": "Python 3 (ipykernel)",
   "language": "python",
   "name": "python3"
  },
  "language_info": {
   "codemirror_mode": {
    "name": "ipython",
    "version": 3
   },
   "file_extension": ".py",
   "mimetype": "text/x-python",
   "name": "python",
   "nbconvert_exporter": "python",
   "pygments_lexer": "ipython3",
   "version": "3.9.6"
  }
 },
 "nbformat": 4,
 "nbformat_minor": 5
}
