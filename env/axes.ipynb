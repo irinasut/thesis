{
 "cells": [
  {
   "cell_type": "code",
   "execution_count": 1,
   "id": "40ba9617-4971-4bfb-9e63-90049f02e3e0",
   "metadata": {},
   "outputs": [],
   "source": [
    "import grpc\n",
    "from proto.axesservice.linear.v2 import linear_axesservice_pb2_grpc\n",
    "from proto.axesservice.linear.v2 import linear_axesservice_pb2\n",
    "from absl import flags\n",
    "from absl import app\n",
    "from google.protobuf import empty_pb2\n"
   ]
  },
  {
   "cell_type": "code",
   "execution_count": 2,
   "id": "c5b8384c-83be-40d4-9b7b-65a68ddc85ca",
   "metadata": {},
   "outputs": [],
   "source": [
    "AXIS_ADDRESSE = 'acsaxesservice.sallyhardware.svc.cluster.local:50051'\n",
    "\n",
    "class AcsServiceClient():\n",
    "    def __init__(self) -> None:\n",
    "        self.channel = grpc.insecure_channel(AXIS_ADDRESSE, options=(('grpc.enable_http_proxy', 0),))\n",
    "        self.hardwarecontroller_stub = linear_axesservice_pb2_grpc.HardwareControllerStub(self.channel)\n",
    "        self.movewithscalarvelocity_stub = linear_axesservice_pb2_grpc.MoveWithScalarVelocityPluginStub(self.channel)\n",
    "\n",
    "\n",
    "    def get_position(self):\n",
    "        response = self.hardwarecontroller_stub.GetPosition(empty_pb2.Empty())\n",
    "    \n",
    "    \n",
    "    def move_to_position(self, target):\n",
    "        request = linear_axesservice_pb2.LinearMoveRequest()\n",
    "        request.target_position.coordinates_in_mm.extend(target)\n",
    "        \n",
    "        response = self.hardwarecontroller_stub.MoveToPosition(request=request)\n",
    "  \n",
    "    \n",
    "    def move_to_position_with_scalar_velocity(self, target, velocity):\n",
    "        request = linear_axesservice_pb2.LinearMoveRequestWithScalarVelocity()\n",
    "        request.target_position.coordinates_in_mm.extend(target)\n",
    "        request.scalar_velocity.velocity_in_mm_per_sec = velocity\n",
    "\n",
    "        response = self.movewithscalarvelocity_stub.MoveToPositionWithScalarVelocity(request=request)\n",
    "\n"
   ]
  },
  {
   "cell_type": "code",
   "execution_count": 158,
   "id": "e4ecfb0b-7ca1-4294-94f5-bb93d4cdeca3",
   "metadata": {},
   "outputs": [],
   "source": []
  },
  {
   "cell_type": "markdown",
   "id": "680294c9-5b6c-415a-88a7-ae657a39b23d",
   "metadata": {},
   "source": [
    "# "
   ]
  },
  {
   "cell_type": "code",
   "execution_count": null,
   "id": "b024e090-4ca7-4f72-9691-214e3db28e00",
   "metadata": {},
   "outputs": [],
   "source": []
  }
 ],
 "metadata": {
  "kernelspec": {
   "display_name": "Python 3 (ipykernel)",
   "language": "python",
   "name": "python3"
  },
  "language_info": {
   "codemirror_mode": {
    "name": "ipython",
    "version": 3
   },
   "file_extension": ".py",
   "mimetype": "text/x-python",
   "name": "python",
   "nbconvert_exporter": "python",
   "pygments_lexer": "ipython3",
   "version": "3.9.6"
  }
 },
 "nbformat": 4,
 "nbformat_minor": 5
}
